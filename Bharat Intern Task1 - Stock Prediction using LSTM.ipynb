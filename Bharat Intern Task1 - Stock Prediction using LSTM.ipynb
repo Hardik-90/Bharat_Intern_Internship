{
 "cells": [
  {
   "cell_type": "markdown",
   "id": "eff10540",
   "metadata": {},
   "source": [
    "# Bharat Intern Internship Task by Hardik Panchal"
   ]
  },
  {
   "cell_type": "markdown",
   "id": "3023d6f9",
   "metadata": {},
   "source": [
    "# Task 1 : Stock Prediction"
   ]
  },
  {
   "cell_type": "markdown",
   "id": "9d16e3c1",
   "metadata": {},
   "source": [
    "# Problem Statement:\n",
    "## Take stock price of any company you want and predicts its price by using LSTM. Use only Jupyter notebook code."
   ]
  },
  {
   "cell_type": "markdown",
   "id": "d58ffa8b",
   "metadata": {},
   "source": [
    "# About the Dataset:\n",
    "## One popular source is Yahoo Finance, which provides historical stock price data for a wide range of companies. Here we need to replace 'AAPL' with the stock symbol of the company you want to analyze. This code will download historical stock price data for that company from January 1, 2010, to January 1, 2023."
   ]
  },
  {
   "cell_type": "code",
   "execution_count": 2,
   "id": "1b9085d2",
   "metadata": {},
   "outputs": [
    {
     "name": "stdout",
     "output_type": "stream",
     "text": [
      "Collecting yfinance\n",
      "  Using cached yfinance-0.2.28-py2.py3-none-any.whl (65 kB)\n",
      "Collecting lxml>=4.9.1\n",
      "  Using cached lxml-4.9.3-cp38-cp38-win_amd64.whl (3.9 MB)\n",
      "Requirement already satisfied: appdirs>=1.4.4 in c:\\users\\hardi\\anaconda3\\lib\\site-packages (from yfinance) (1.4.4)\n",
      "Collecting multitasking>=0.0.7\n",
      "  Using cached multitasking-0.0.11-py3-none-any.whl (8.5 kB)\n",
      "Requirement already satisfied: requests>=2.31 in c:\\users\\hardi\\anaconda3\\lib\\site-packages (from yfinance) (2.31.0)\n",
      "Collecting frozendict>=2.3.4\n",
      "  Using cached frozendict-2.3.8-cp38-cp38-win_amd64.whl (35 kB)\n",
      "Requirement already satisfied: numpy>=1.16.5 in c:\\users\\hardi\\anaconda3\\lib\\site-packages (from yfinance) (1.24.3)\n",
      "Collecting beautifulsoup4>=4.11.1\n",
      "  Using cached beautifulsoup4-4.12.2-py3-none-any.whl (142 kB)\n",
      "Collecting html5lib>=1.1\n",
      "  Using cached html5lib-1.1-py2.py3-none-any.whl (112 kB)\n",
      "Requirement already satisfied: pandas>=1.3.0 in c:\\users\\hardi\\anaconda3\\lib\\site-packages (from yfinance) (2.0.3)\n",
      "Requirement already satisfied: pytz>=2022.5 in c:\\users\\hardi\\anaconda3\\lib\\site-packages (from yfinance) (2023.3)\n",
      "Requirement already satisfied: soupsieve>1.2 in c:\\users\\hardi\\anaconda3\\lib\\site-packages (from beautifulsoup4>=4.11.1->yfinance) (2.2.1)\n",
      "Requirement already satisfied: webencodings in c:\\users\\hardi\\anaconda3\\lib\\site-packages (from html5lib>=1.1->yfinance) (0.5.1)\n",
      "Requirement already satisfied: six>=1.9 in c:\\users\\hardi\\anaconda3\\lib\\site-packages (from html5lib>=1.1->yfinance) (1.15.0)\n",
      "Requirement already satisfied: tzdata>=2022.1 in c:\\users\\hardi\\anaconda3\\lib\\site-packages (from pandas>=1.3.0->yfinance) (2023.3)\n",
      "Requirement already satisfied: python-dateutil>=2.8.2 in c:\\users\\hardi\\anaconda3\\lib\\site-packages (from pandas>=1.3.0->yfinance) (2.8.2)\n",
      "Requirement already satisfied: charset-normalizer<4,>=2 in c:\\users\\hardi\\anaconda3\\lib\\site-packages (from requests>=2.31->yfinance) (3.2.0)\n",
      "Requirement already satisfied: urllib3<3,>=1.21.1 in c:\\users\\hardi\\anaconda3\\lib\\site-packages (from requests>=2.31->yfinance) (1.26.4)\n",
      "Requirement already satisfied: idna<4,>=2.5 in c:\\users\\hardi\\anaconda3\\lib\\site-packages (from requests>=2.31->yfinance) (2.10)\n",
      "Requirement already satisfied: certifi>=2017.4.17 in c:\\users\\hardi\\anaconda3\\lib\\site-packages (from requests>=2.31->yfinance) (2020.12.5)\n",
      "Installing collected packages: multitasking, lxml, html5lib, frozendict, beautifulsoup4, yfinance\n",
      "  Attempting uninstall: lxml\n",
      "    Found existing installation: lxml 4.6.3\n",
      "    Uninstalling lxml-4.6.3:\n",
      "      Successfully uninstalled lxml-4.6.3\n",
      "  Attempting uninstall: beautifulsoup4\n",
      "    Found existing installation: beautifulsoup4 4.9.3\n",
      "    Uninstalling beautifulsoup4-4.9.3:\n",
      "      Successfully uninstalled beautifulsoup4-4.9.3\n",
      "Successfully installed beautifulsoup4-4.12.2 frozendict-2.3.8 html5lib-1.1 lxml-4.9.3 multitasking-0.0.11 yfinance-0.2.28\n",
      "Note: you may need to restart the kernel to use updated packages.\n"
     ]
    }
   ],
   "source": [
    "pip install yfinance"
   ]
  },
  {
   "cell_type": "code",
   "execution_count": 3,
   "id": "4e7b5cb8",
   "metadata": {},
   "outputs": [
    {
     "name": "stdout",
     "output_type": "stream",
     "text": [
      "[*********************100%%**********************]  1 of 1 completed\n"
     ]
    }
   ],
   "source": [
    "import yfinance as yf\n",
    "import pandas as pd\n",
    "\n",
    "# Define the stock symbol and date range\n",
    "stock_symbol = 'AAPL'  # Replace with the symbol of the company you're interested in\n",
    "start_date = '2010-01-01'\n",
    "end_date = '2023-01-01'\n",
    "\n",
    "# Download stock price data\n",
    "data = yf.download(stock_symbol, start=start_date, end=end_date)\n",
    "\n",
    "# Save the data to a CSV file\n",
    "data.to_csv('stock_data.csv')\n"
   ]
  },
  {
   "cell_type": "code",
   "execution_count": 4,
   "id": "fadbc112",
   "metadata": {},
   "outputs": [
    {
     "name": "stderr",
     "output_type": "stream",
     "text": [
      "C:\\Users\\Hardi\\anaconda3\\lib\\site-packages\\scipy\\__init__.py:138: UserWarning: A NumPy version >=1.16.5 and <1.23.0 is required for this version of SciPy (detected version 1.24.3)\n",
      "  warnings.warn(f\"A NumPy version >={np_minversion} and <{np_maxversion} is required for this version of \"\n"
     ]
    }
   ],
   "source": [
    "import numpy as np\n",
    "import pandas as pd\n",
    "import matplotlib.pyplot as plt\n",
    "from sklearn.preprocessing import MinMaxScaler\n",
    "from sklearn.model_selection import train_test_split\n",
    "from tensorflow.keras.models import Sequential\n",
    "from tensorflow.keras.layers import LSTM, Dense\n",
    "\n",
    "# Load your stock price data using pandas\n",
    "# For this example, let's assume you have a CSV file named 'stock_data.csv'\n",
    "data = pd.read_csv('stock_data.csv')"
   ]
  },
  {
   "cell_type": "code",
   "execution_count": 5,
   "id": "c2127e6d",
   "metadata": {},
   "outputs": [
    {
     "data": {
      "text/html": [
       "<div>\n",
       "<style scoped>\n",
       "    .dataframe tbody tr th:only-of-type {\n",
       "        vertical-align: middle;\n",
       "    }\n",
       "\n",
       "    .dataframe tbody tr th {\n",
       "        vertical-align: top;\n",
       "    }\n",
       "\n",
       "    .dataframe thead th {\n",
       "        text-align: right;\n",
       "    }\n",
       "</style>\n",
       "<table border=\"1\" class=\"dataframe\">\n",
       "  <thead>\n",
       "    <tr style=\"text-align: right;\">\n",
       "      <th></th>\n",
       "      <th>Date</th>\n",
       "      <th>Open</th>\n",
       "      <th>High</th>\n",
       "      <th>Low</th>\n",
       "      <th>Close</th>\n",
       "      <th>Adj Close</th>\n",
       "      <th>Volume</th>\n",
       "    </tr>\n",
       "  </thead>\n",
       "  <tbody>\n",
       "    <tr>\n",
       "      <th>0</th>\n",
       "      <td>2010-01-04</td>\n",
       "      <td>7.622500</td>\n",
       "      <td>7.660714</td>\n",
       "      <td>7.585000</td>\n",
       "      <td>7.643214</td>\n",
       "      <td>6.487534</td>\n",
       "      <td>493729600</td>\n",
       "    </tr>\n",
       "    <tr>\n",
       "      <th>1</th>\n",
       "      <td>2010-01-05</td>\n",
       "      <td>7.664286</td>\n",
       "      <td>7.699643</td>\n",
       "      <td>7.616071</td>\n",
       "      <td>7.656429</td>\n",
       "      <td>6.498751</td>\n",
       "      <td>601904800</td>\n",
       "    </tr>\n",
       "    <tr>\n",
       "      <th>2</th>\n",
       "      <td>2010-01-06</td>\n",
       "      <td>7.656429</td>\n",
       "      <td>7.686786</td>\n",
       "      <td>7.526786</td>\n",
       "      <td>7.534643</td>\n",
       "      <td>6.395378</td>\n",
       "      <td>552160000</td>\n",
       "    </tr>\n",
       "    <tr>\n",
       "      <th>3</th>\n",
       "      <td>2010-01-07</td>\n",
       "      <td>7.562500</td>\n",
       "      <td>7.571429</td>\n",
       "      <td>7.466071</td>\n",
       "      <td>7.520714</td>\n",
       "      <td>6.383555</td>\n",
       "      <td>477131200</td>\n",
       "    </tr>\n",
       "    <tr>\n",
       "      <th>4</th>\n",
       "      <td>2010-01-08</td>\n",
       "      <td>7.510714</td>\n",
       "      <td>7.571429</td>\n",
       "      <td>7.466429</td>\n",
       "      <td>7.570714</td>\n",
       "      <td>6.425997</td>\n",
       "      <td>447610800</td>\n",
       "    </tr>\n",
       "  </tbody>\n",
       "</table>\n",
       "</div>"
      ],
      "text/plain": [
       "         Date      Open      High       Low     Close  Adj Close     Volume\n",
       "0  2010-01-04  7.622500  7.660714  7.585000  7.643214   6.487534  493729600\n",
       "1  2010-01-05  7.664286  7.699643  7.616071  7.656429   6.498751  601904800\n",
       "2  2010-01-06  7.656429  7.686786  7.526786  7.534643   6.395378  552160000\n",
       "3  2010-01-07  7.562500  7.571429  7.466071  7.520714   6.383555  477131200\n",
       "4  2010-01-08  7.510714  7.571429  7.466429  7.570714   6.425997  447610800"
      ]
     },
     "execution_count": 5,
     "metadata": {},
     "output_type": "execute_result"
    }
   ],
   "source": [
    "data.head()"
   ]
  },
  {
   "cell_type": "code",
   "execution_count": 6,
   "id": "0117e863",
   "metadata": {},
   "outputs": [],
   "source": [
    "scaler = MinMaxScaler()\n",
    "data_scaled = scaler.fit_transform(data['Close'].values.reshape(-1, 1))"
   ]
  },
  {
   "cell_type": "code",
   "execution_count": 7,
   "id": "efa1c6a1",
   "metadata": {},
   "outputs": [],
   "source": [
    "sequence_length = 10  # Adjust this based on your preference\n",
    "sequences = []\n",
    "labels = []\n",
    "for i in range(len(data_scaled) - sequence_length):\n",
    "    sequences.append(data_scaled[i : i + sequence_length])\n",
    "    labels.append(data_scaled[i + sequence_length])\n",
    "\n",
    "X = np.array(sequences)\n",
    "y = np.array(labels)"
   ]
  },
  {
   "cell_type": "code",
   "execution_count": 8,
   "id": "ed5ca6f9",
   "metadata": {},
   "outputs": [],
   "source": [
    "X_train, X_test, y_train, y_test = train_test_split(X, y, test_size=0.2, shuffle=False)"
   ]
  },
  {
   "cell_type": "code",
   "execution_count": 9,
   "id": "38e330a8",
   "metadata": {},
   "outputs": [],
   "source": [
    "model = Sequential([\n",
    "    LSTM(units=50, activation='relu', input_shape=(X_train.shape[1], X_train.shape[2])),\n",
    "    Dense(units=1)\n",
    "])\n",
    "\n",
    "model.compile(optimizer='adam', loss='mean_squared_error')"
   ]
  },
  {
   "cell_type": "code",
   "execution_count": 10,
   "id": "e437405b",
   "metadata": {},
   "outputs": [
    {
     "name": "stdout",
     "output_type": "stream",
     "text": [
      "Epoch 1/50\n",
      "82/82 [==============================] - 3s 15ms/step - loss: 0.0051\n",
      "Epoch 2/50\n",
      "82/82 [==============================] - 1s 15ms/step - loss: 5.9870e-05\n",
      "Epoch 3/50\n",
      "82/82 [==============================] - 1s 14ms/step - loss: 4.7508e-05\n",
      "Epoch 4/50\n",
      "82/82 [==============================] - 1s 13ms/step - loss: 4.6888e-05\n",
      "Epoch 5/50\n",
      "82/82 [==============================] - 1s 13ms/step - loss: 4.7594e-05\n",
      "Epoch 6/50\n",
      "82/82 [==============================] - 1s 13ms/step - loss: 4.3389e-05\n",
      "Epoch 7/50\n",
      "82/82 [==============================] - 1s 13ms/step - loss: 4.3012e-05\n",
      "Epoch 8/50\n",
      "82/82 [==============================] - 1s 13ms/step - loss: 4.2624e-05\n",
      "Epoch 9/50\n",
      "82/82 [==============================] - 1s 12ms/step - loss: 4.1412e-05\n",
      "Epoch 10/50\n",
      "82/82 [==============================] - 1s 13ms/step - loss: 4.3260e-05\n",
      "Epoch 11/50\n",
      "82/82 [==============================] - 1s 12ms/step - loss: 4.2015e-05\n",
      "Epoch 12/50\n",
      "82/82 [==============================] - 1s 14ms/step - loss: 4.1576e-05\n",
      "Epoch 13/50\n",
      "82/82 [==============================] - 1s 14ms/step - loss: 4.1808e-05\n",
      "Epoch 14/50\n",
      "82/82 [==============================] - 1s 14ms/step - loss: 3.9674e-05\n",
      "Epoch 15/50\n",
      "82/82 [==============================] - 1s 14ms/step - loss: 3.8950e-05\n",
      "Epoch 16/50\n",
      "82/82 [==============================] - 1s 14ms/step - loss: 4.3038e-05\n",
      "Epoch 17/50\n",
      "82/82 [==============================] - 1s 14ms/step - loss: 4.1594e-05\n",
      "Epoch 18/50\n",
      "82/82 [==============================] - 1s 14ms/step - loss: 4.0864e-05\n",
      "Epoch 19/50\n",
      "82/82 [==============================] - 1s 14ms/step - loss: 4.3488e-05\n",
      "Epoch 20/50\n",
      "82/82 [==============================] - 1s 14ms/step - loss: 3.7567e-05\n",
      "Epoch 21/50\n",
      "82/82 [==============================] - 1s 14ms/step - loss: 3.8164e-05\n",
      "Epoch 22/50\n",
      "82/82 [==============================] - 1s 14ms/step - loss: 3.7991e-05\n",
      "Epoch 23/50\n",
      "82/82 [==============================] - 1s 14ms/step - loss: 4.4502e-05\n",
      "Epoch 24/50\n",
      "82/82 [==============================] - 1s 14ms/step - loss: 3.6961e-05\n",
      "Epoch 25/50\n",
      "82/82 [==============================] - 1s 14ms/step - loss: 3.5084e-05\n",
      "Epoch 26/50\n",
      "82/82 [==============================] - 1s 13ms/step - loss: 3.7338e-05\n",
      "Epoch 27/50\n",
      "82/82 [==============================] - 1s 13ms/step - loss: 3.6521e-05\n",
      "Epoch 28/50\n",
      "82/82 [==============================] - 1s 13ms/step - loss: 3.5045e-05\n",
      "Epoch 29/50\n",
      "82/82 [==============================] - 1s 13ms/step - loss: 3.4580e-05\n",
      "Epoch 30/50\n",
      "82/82 [==============================] - 1s 13ms/step - loss: 3.4110e-05\n",
      "Epoch 31/50\n",
      "82/82 [==============================] - 1s 13ms/step - loss: 3.5349e-05\n",
      "Epoch 32/50\n",
      "82/82 [==============================] - 1s 13ms/step - loss: 3.4713e-05\n",
      "Epoch 33/50\n",
      "82/82 [==============================] - 1s 12ms/step - loss: 3.5195e-05\n",
      "Epoch 34/50\n",
      "82/82 [==============================] - 0s 5ms/step - loss: 3.9015e-05\n",
      "Epoch 35/50\n",
      "82/82 [==============================] - 0s 5ms/step - loss: 3.2315e-05\n",
      "Epoch 36/50\n",
      "82/82 [==============================] - 0s 5ms/step - loss: 3.0721e-05\n",
      "Epoch 37/50\n",
      "82/82 [==============================] - 0s 5ms/step - loss: 3.2889e-05\n",
      "Epoch 38/50\n",
      "82/82 [==============================] - 0s 4ms/step - loss: 3.3221e-05\n",
      "Epoch 39/50\n",
      "82/82 [==============================] - 0s 4ms/step - loss: 3.1462e-05\n",
      "Epoch 40/50\n",
      "82/82 [==============================] - 0s 4ms/step - loss: 3.1333e-05\n",
      "Epoch 41/50\n",
      "82/82 [==============================] - 0s 4ms/step - loss: 3.0740e-05\n",
      "Epoch 42/50\n",
      "82/82 [==============================] - 0s 4ms/step - loss: 2.8860e-05\n",
      "Epoch 43/50\n",
      "82/82 [==============================] - 0s 4ms/step - loss: 2.9328e-05\n",
      "Epoch 44/50\n",
      "82/82 [==============================] - 0s 4ms/step - loss: 2.8033e-05\n",
      "Epoch 45/50\n",
      "82/82 [==============================] - 0s 4ms/step - loss: 2.8896e-05\n",
      "Epoch 46/50\n",
      "82/82 [==============================] - 0s 4ms/step - loss: 2.9954e-05\n",
      "Epoch 47/50\n",
      "82/82 [==============================] - 0s 4ms/step - loss: 2.7526e-05\n",
      "Epoch 48/50\n",
      "82/82 [==============================] - 0s 4ms/step - loss: 2.8190e-05\n",
      "Epoch 49/50\n",
      "82/82 [==============================] - 0s 4ms/step - loss: 2.6690e-05\n",
      "Epoch 50/50\n",
      "82/82 [==============================] - 0s 4ms/step - loss: 2.7740e-05\n"
     ]
    },
    {
     "data": {
      "text/plain": [
       "<keras.src.callbacks.History at 0x28609d05df0>"
      ]
     },
     "execution_count": 10,
     "metadata": {},
     "output_type": "execute_result"
    }
   ],
   "source": [
    "model.fit(X_train, y_train, epochs=50, batch_size=32)"
   ]
  },
  {
   "cell_type": "code",
   "execution_count": 11,
   "id": "86a942de",
   "metadata": {},
   "outputs": [
    {
     "name": "stdout",
     "output_type": "stream",
     "text": [
      "21/21 [==============================] - 0s 2ms/step\n"
     ]
    }
   ],
   "source": [
    "y_pred = model.predict(X_test)"
   ]
  },
  {
   "cell_type": "code",
   "execution_count": 12,
   "id": "58dc4d99",
   "metadata": {},
   "outputs": [],
   "source": [
    "y_pred_actual = scaler.inverse_transform(y_pred)\n",
    "y_test_actual = scaler.inverse_transform(y_test)"
   ]
  },
  {
   "cell_type": "code",
   "execution_count": 13,
   "id": "0d6ea1bf",
   "metadata": {},
   "outputs": [
    {
     "data": {
      "image/png": "[encoded data removed]",
      "text/plain": [
       "<Figure size 432x288 with 1 Axes>"
      ]
     },
     "metadata": {
      "needs_background": "light"
     },
     "output_type": "display_data"
    }
   ],
   "source": [
    "plt.plot(y_test_actual, label='Actual Prices')\n",
    "plt.plot(y_pred_actual, label='Predicted Prices')\n",
    "plt.legend()\n",
    "plt.show()"
   ]
  },
  {
   "cell_type": "code",
   "execution_count": null,
   "id": "dea83c8e",
   "metadata": {},
   "outputs": [],
   "source": []
  }
 ],
 "metadata": {
  "kernelspec": {
   "display_name": "Python 3",
   "language": "python",
   "name": "python3"
  },
  "language_info": {
   "codemirror_mode": {
    "name": "ipython",
    "version": 3
   },
   "file_extension": ".py",
   "mimetype": "text/x-python",
   "name": "python",
   "nbconvert_exporter": "python",
   "pygments_lexer": "ipython3",
   "version": "3.8.3"
  }
 },
 "nbformat": 4,
 "nbformat_minor": 5
}
